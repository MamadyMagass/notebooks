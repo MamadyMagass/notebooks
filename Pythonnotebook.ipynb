## Note
print("hello this is my first Waston published notebook")
